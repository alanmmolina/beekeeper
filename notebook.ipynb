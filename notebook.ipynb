{
 "cells": [
  {
   "cell_type": "code",
   "execution_count": 6,
   "metadata": {},
   "outputs": [],
   "source": [
    "from colmeia.adapters.inbound.notebook import NotebookAdapter\n",
    "from colmeia.adapters.outbound.duckdb import DuckDBBeeAdapter\n",
    "from colmeia.core.use_cases.bee_management import BeeManagement"
   ]
  },
  {
   "cell_type": "code",
   "execution_count": 7,
   "metadata": {},
   "outputs": [],
   "source": [
    "duckdb_adapter = DuckDBBeeAdapter(path=\"database/hive.db\")\n",
    "use_case = BeeManagement(port=duckdb_adapter)\n",
    "adapter = NotebookAdapter(use_case=use_case)"
   ]
  },
  {
   "cell_type": "code",
   "execution_count": 8,
   "metadata": {},
   "outputs": [
    {
     "name": "stderr",
     "output_type": "stream",
     "text": [
      "\u001b[32m2024-09-05 15:13:15.096\u001b[0m | \u001b[32m\u001b[1mSUCCESS \u001b[0m | \u001b[36mcolmeia.core.use_cases.bee_management\u001b[0m:\u001b[36mbirth_bee\u001b[0m:\u001b[36m29\u001b[0m - \u001b[32m\u001b[1mA new baby Queen bee (ID 1) has been born with 90% health. Welcome to the hive!\u001b[0m\n"
     ]
    },
    {
     "name": "stdout",
     "output_type": "stream",
     "text": [
      "🐝 \u001b[1mQueen\u001b[0m(ID=1, Health=90%)\n"
     ]
    }
   ],
   "source": [
    "adapter.birth_bee(\n",
    "    type=\"queen\",\n",
    "    id=1,\n",
    "    health=90\n",
    ")"
   ]
  },
  {
   "cell_type": "code",
   "execution_count": 9,
   "metadata": {},
   "outputs": [
    {
     "name": "stderr",
     "output_type": "stream",
     "text": [
      "\u001b[32m2024-09-05 15:13:34.148\u001b[0m | \u001b[1mINFO    \u001b[0m | \u001b[36mcolmeia.core.use_cases.bee_management\u001b[0m:\u001b[36mfind_bee_by_id\u001b[0m:\u001b[36m35\u001b[0m - \u001b[1mBee ID 1 found! It's a queen. Buzzing strong!\u001b[0m\n"
     ]
    },
    {
     "name": "stdout",
     "output_type": "stream",
     "text": [
      "🐝 \u001b[1mQueen\u001b[0m(ID=1, Health=90%)\n"
     ]
    }
   ],
   "source": [
    "adapter.find_bee_by_id(\n",
    "    id=1\n",
    ")"
   ]
  },
  {
   "cell_type": "code",
   "execution_count": 10,
   "metadata": {},
   "outputs": [
    {
     "name": "stderr",
     "output_type": "stream",
     "text": [
      "\u001b[32m2024-09-05 15:13:55.649\u001b[0m | \u001b[32m\u001b[1mSUCCESS \u001b[0m | \u001b[36mcolmeia.core.use_cases.bee_management\u001b[0m:\u001b[36mbirth_bee\u001b[0m:\u001b[36m29\u001b[0m - \u001b[32m\u001b[1mA new baby Drone bee (ID 2) has been born with 100% health. Welcome to the hive!\u001b[0m\n"
     ]
    },
    {
     "name": "stdout",
     "output_type": "stream",
     "text": [
      "🐝 \u001b[1mDrone\u001b[0m(ID=2, Health=100%)\n"
     ]
    }
   ],
   "source": [
    "adapter.birth_bee(\n",
    "    type=\"drone\",\n",
    "    id=2,\n",
    "    health=100\n",
    ")"
   ]
  },
  {
   "cell_type": "code",
   "execution_count": 16,
   "metadata": {},
   "outputs": [
    {
     "name": "stderr",
     "output_type": "stream",
     "text": [
      "\u001b[32m2024-09-05 15:14:28.258\u001b[0m | \u001b[32m\u001b[1mSUCCESS \u001b[0m | \u001b[36mcolmeia.core.use_cases.bee_management\u001b[0m:\u001b[36mbirth_bee\u001b[0m:\u001b[36m29\u001b[0m - \u001b[32m\u001b[1mA new baby Worker bee (ID 7) has been born with 100% health. Welcome to the hive!\u001b[0m\n"
     ]
    },
    {
     "name": "stdout",
     "output_type": "stream",
     "text": [
      "🐝 \u001b[1mWorker\u001b[0m(ID=7, Health=100%)\n"
     ]
    }
   ],
   "source": [
    "adapter.birth_bee(\n",
    "    type=\"worker\",\n",
    "    id=7,\n",
    "    health=100\n",
    ")"
   ]
  },
  {
   "cell_type": "code",
   "execution_count": 20,
   "metadata": {},
   "outputs": [
    {
     "name": "stderr",
     "output_type": "stream",
     "text": [
      "\u001b[32m2024-09-05 15:15:19.098\u001b[0m | \u001b[1mINFO    \u001b[0m | \u001b[36mcolmeia.core.use_cases.bee_management\u001b[0m:\u001b[36mfind_bee_by_id\u001b[0m:\u001b[36m35\u001b[0m - \u001b[1mBee ID 1 found! It's a queen. Buzzing strong!\u001b[0m\n"
     ]
    },
    {
     "name": "stdout",
     "output_type": "stream",
     "text": [
      "🐝 \u001b[1mQueen\u001b[0m(ID=1, Health=90%)\n"
     ]
    }
   ],
   "source": [
    "adapter.find_bee_by_id(id=1)"
   ]
  },
  {
   "cell_type": "code",
   "execution_count": 21,
   "metadata": {},
   "outputs": [
    {
     "name": "stderr",
     "output_type": "stream",
     "text": [
      "\u001b[32m2024-09-05 15:15:44.622\u001b[0m | \u001b[1mINFO    \u001b[0m | \u001b[36mcolmeia.core.use_cases.bee_management\u001b[0m:\u001b[36mkill_bee\u001b[0m:\u001b[36m61\u001b[0m - \u001b[1mBee ID 3 has been removed from the hive. Rest in peace, little one.\u001b[0m\n"
     ]
    }
   ],
   "source": [
    "adapter.kill_bee(id=3)"
   ]
  }
 ],
 "metadata": {
  "kernelspec": {
   "display_name": "non-package-mode-OjcXk1u--py3.12",
   "language": "python",
   "name": "python3"
  },
  "language_info": {
   "codemirror_mode": {
    "name": "ipython",
    "version": 3
   },
   "file_extension": ".py",
   "mimetype": "text/x-python",
   "name": "python",
   "nbconvert_exporter": "python",
   "pygments_lexer": "ipython3",
   "version": "3.12.5"
  }
 },
 "nbformat": 4,
 "nbformat_minor": 2
}
